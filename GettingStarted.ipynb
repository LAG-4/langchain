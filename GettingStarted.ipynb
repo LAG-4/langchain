{
 "cells": [
  {
   "cell_type": "code",
   "execution_count": 2,
   "metadata": {},
   "outputs": [],
   "source": [
    "import os\n",
    "from dotenv import load_dotenv\n",
    "load_dotenv()\n",
    "\n",
    "os.environ[\"OPENAI_API_KEY\"]=os.getenv(\"OPENAI_API_KEY\")\n",
    "os.environ[\"LANGCHAIN_API_KEY\"]=os.getenv(\"LANGCHAIN_API_KEY\")\n",
    "os.environ[\"LANGCHAIN_TRACING_V2\"]=\"true\"\n",
    "os.environ[\"LANGCHAIN_PROJECT\"]=os.getenv(\"LANGCHAIN_PROJECT\")\n"
   ]
  },
  {
   "cell_type": "code",
   "execution_count": 9,
   "metadata": {},
   "outputs": [
    {
     "name": "stdout",
     "output_type": "stream",
     "text": [
      "client=<openai.resources.chat.completions.completions.Completions object at 0x0000028824F732C0> async_client=<openai.resources.chat.completions.completions.AsyncCompletions object at 0x0000028810247D40> root_client=<openai.OpenAI object at 0x0000028815F0F4A0> root_async_client=<openai.AsyncOpenAI object at 0x0000028824F732F0> model_name='gpt-4o' model_kwargs={} openai_api_key=SecretStr('**********')\n"
     ]
    }
   ],
   "source": [
    "from langchain_openai import ChatOpenAI\n",
    "llm=ChatOpenAI(model=\"gpt-4o\")\n",
    "print(llm)"
   ]
  },
  {
   "cell_type": "code",
   "execution_count": 4,
   "metadata": {},
   "outputs": [
    {
     "name": "stdout",
     "output_type": "stream",
     "text": [
      "content='Generative AI refers to artificial intelligence systems that are capable of generating new content or data, such as images, texts, or even music, without direct human input. These systems are able to understand patterns in existing data and use that knowledge to create new content that is similar in style or format. Generative AI can be used in a variety of applications, including creative industries, natural language processing, and simulations. By mimicking human creativity, generative AI has the potential to revolutionize how content is generated and consumed.' additional_kwargs={'refusal': None} response_metadata={'token_usage': {'completion_tokens': 105, 'prompt_tokens': 12, 'total_tokens': 117, 'completion_tokens_details': {'accepted_prediction_tokens': 0, 'audio_tokens': 0, 'reasoning_tokens': 0, 'rejected_prediction_tokens': 0}, 'prompt_tokens_details': {'audio_tokens': 0, 'cached_tokens': 0}}, 'model_name': 'gpt-3.5-turbo-0125', 'system_fingerprint': None, 'finish_reason': 'stop', 'logprobs': None} id='run-b72d3fd4-69a0-4684-8886-f5a85dad2a88-0' usage_metadata={'input_tokens': 12, 'output_tokens': 105, 'total_tokens': 117, 'input_token_details': {'audio': 0, 'cache_read': 0}, 'output_token_details': {'audio': 0, 'reasoning': 0}}\n"
     ]
    }
   ],
   "source": [
    "# Input and get response\n",
    "result=llm.invoke(\"What is generative AI\")\n",
    "print(result)"
   ]
  },
  {
   "cell_type": "code",
   "execution_count": 10,
   "metadata": {},
   "outputs": [
    {
     "data": {
      "text/plain": [
       "ChatPromptTemplate(input_variables=['input'], input_types={}, partial_variables={}, messages=[SystemMessagePromptTemplate(prompt=PromptTemplate(input_variables=[], input_types={}, partial_variables={}, template='You are an expert AI Engineer. Provide me answers based on the question'), additional_kwargs={}), HumanMessagePromptTemplate(prompt=PromptTemplate(input_variables=['input'], input_types={}, partial_variables={}, template='{input}'), additional_kwargs={})])"
      ]
     },
     "execution_count": 10,
     "metadata": {},
     "output_type": "execute_result"
    }
   ],
   "source": [
    "from langchain_core.prompts import ChatPromptTemplate\n",
    "\n",
    "prompt= ChatPromptTemplate.from_messages(\n",
    "    [\n",
    "        (\"system\",\"You are an expert AI Engineer. Provide me answers based on the question\"),\n",
    "        (\"user\",\"{input}\")\n",
    "    ]\n",
    ")\n",
    "\n",
    "prompt"
   ]
  },
  {
   "cell_type": "code",
   "execution_count": 7,
   "metadata": {},
   "outputs": [
    {
     "name": "stdout",
     "output_type": "stream",
     "text": [
      "content='Langsmith is a fictional term that does not have a widely recognized definition or meaning in real-world contexts. It might be a made-up term used in a specific context or created for a fictional work. Without more context or information, it is difficult to provide a specific answer about Langsmith.' additional_kwargs={'refusal': None} response_metadata={'token_usage': {'completion_tokens': 59, 'prompt_tokens': 32, 'total_tokens': 91, 'completion_tokens_details': {'accepted_prediction_tokens': 0, 'audio_tokens': 0, 'reasoning_tokens': 0, 'rejected_prediction_tokens': 0}, 'prompt_tokens_details': {'audio_tokens': 0, 'cached_tokens': 0}}, 'model_name': 'gpt-3.5-turbo-0125', 'system_fingerprint': None, 'finish_reason': 'stop', 'logprobs': None} id='run-f762e71a-3598-46e5-823a-cb943999b144-0' usage_metadata={'input_tokens': 32, 'output_tokens': 59, 'total_tokens': 91, 'input_token_details': {'audio': 0, 'cache_read': 0}, 'output_token_details': {'audio': 0, 'reasoning': 0}}\n"
     ]
    }
   ],
   "source": [
    "chain=prompt|llm\n",
    "response=chain.invoke({\"input\":\"Can you tell me about Langsmith\"})\n",
    "print(response)"
   ]
  },
  {
   "cell_type": "code",
   "execution_count": 11,
   "metadata": {},
   "outputs": [
    {
     "name": "stdout",
     "output_type": "stream",
     "text": [
      "Langchain is an open-source framework designed to facilitate the development of applications using large language models (LLMs). It provides a structured way to build complex applications by integrating various components such as data processing, model integration, and interaction management. Langchain primarily focuses on creating applications that can harness the power of LLMs for various tasks, such as natural language understanding, generation, and data-driven workflows.\n",
      "\n",
      "The framework allows developers to easily connect multiple data sources and APIs, manage memory and state within applications, and implement custom logic for specific use cases. Langchain's modular architecture supports extensibility and customization, enabling developers to build bespoke solutions catered to their needs.\n",
      "\n",
      "Key features of Langchain include:\n",
      "\n",
      "1. **Component-Based Architecture**: Langchain offers a variety of pre-built modules that can be combined and configured to suit different application requirements, such as indexing, document retrieval, and chat interfaces.\n",
      "\n",
      "2. **Chaining Capabilities**: The framework supports chaining together LLMs with other data processing tools and models, allowing for complex interaction pipelines that can perform sophisticated tasks across multiple stages.\n",
      "\n",
      "3. **Integration Flexibility**: Langchain is built to work with a wide array of language models and can integrate with other technologies and platforms, providing flexibility in how applications are designed and deployed.\n",
      "\n",
      "4. **State and Memory Management**: It includes mechanisms for managing state and memory over conversations or sessions, necessary for building interactive applications such as chatbots or virtual assistants.\n",
      "\n",
      "By leveraging Langchain, developers can create highly functional and responsive applications that tap into the potential of language models, enhancing both the capability and reach of AI-driven solutions.\n"
     ]
    }
   ],
   "source": [
    "## stroutput parser\n",
    "from langchain_core.output_parsers import StrOutputParser\n",
    "\n",
    "outpur_parser=StrOutputParser()\n",
    "chain = prompt|llm|outpur_parser\n",
    "\n",
    "response=chain.invoke({\"input\":\"Can you tell me about Langchain?\"})\n",
    "print(response)"
   ]
  },
  {
   "cell_type": "code",
   "execution_count": null,
   "metadata": {},
   "outputs": [],
   "source": []
  }
 ],
 "metadata": {
  "kernelspec": {
   "display_name": "Python 3",
   "language": "python",
   "name": "python3"
  },
  "language_info": {
   "codemirror_mode": {
    "name": "ipython",
    "version": 3
   },
   "file_extension": ".py",
   "mimetype": "text/x-python",
   "name": "python",
   "nbconvert_exporter": "python",
   "pygments_lexer": "ipython3",
   "version": "3.12.0"
  }
 },
 "nbformat": 4,
 "nbformat_minor": 2
}
